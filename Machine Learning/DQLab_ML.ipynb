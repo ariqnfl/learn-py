{
  "nbformat": 4,
  "nbformat_minor": 0,
  "metadata": {
    "colab": {
      "name": "DQLab ML.ipynb",
      "provenance": [],
      "collapsed_sections": []
    },
    "kernelspec": {
      "name": "python3",
      "display_name": "Python 3"
    }
  },
  "cells": [
    {
      "cell_type": "code",
      "metadata": {
        "id": "LcXIvuC3e1sM"
      },
      "source": [
        "import pandas as pd"
      ],
      "execution_count": 1,
      "outputs": []
    },
    {
      "cell_type": "code",
      "metadata": {
        "id": "7C8AQANwe8wN"
      },
      "source": [
        "# Load Dataset\n",
        "dataset = pd.read_csv('https://dqlab-dataset.s3-ap-southeast-1.amazonaws.com/pythonTutorial/online_raw.csv')"
      ],
      "execution_count": 3,
      "outputs": []
    },
    {
      "cell_type": "code",
      "metadata": {
        "id": "RWDTNye5fEEd",
        "outputId": "86781a0e-ce58-48ee-b016-552d7722e9d3",
        "colab": {
          "base_uri": "https://localhost:8080/"
        }
      },
      "source": [
        "print('Shape dataset:', dataset.shape)\n",
        "print('\\nLima data teratas:\\n', dataset.head())"
      ],
      "execution_count": 6,
      "outputs": [
        {
          "output_type": "stream",
          "text": [
            "Shape dataset: (12330, 18)\n",
            "\n",
            "Lima data teratas:\n",
            "    Administrative  Administrative_Duration  ...  Weekend  Revenue\n",
            "0             0.0                      0.0  ...    False    False\n",
            "1             0.0                      0.0  ...    False    False\n",
            "2             0.0                     -1.0  ...    False    False\n",
            "3             0.0                      0.0  ...    False    False\n",
            "4             0.0                      0.0  ...     True    False\n",
            "\n",
            "[5 rows x 18 columns]\n"
          ],
          "name": "stdout"
        }
      ]
    },
    {
      "cell_type": "code",
      "metadata": {
        "id": "RUkSLwJcfJg3",
        "outputId": "acb31f9b-8d12-4dd2-dad3-381eb80c90a1",
        "colab": {
          "base_uri": "https://localhost:8080/"
        }
      },
      "source": [
        "print('\\nInformasi dataset:')\n",
        "print(dataset.info())\n",
        "print('\\nStatistik deskriptif:\\n', dataset.describe())"
      ],
      "execution_count": 7,
      "outputs": [
        {
          "output_type": "stream",
          "text": [
            "\n",
            "Informasi dataset:\n",
            "<class 'pandas.core.frame.DataFrame'>\n",
            "RangeIndex: 12330 entries, 0 to 12329\n",
            "Data columns (total 18 columns):\n",
            " #   Column                   Non-Null Count  Dtype  \n",
            "---  ------                   --------------  -----  \n",
            " 0   Administrative           12316 non-null  float64\n",
            " 1   Administrative_Duration  12316 non-null  float64\n",
            " 2   Informational            12316 non-null  float64\n",
            " 3   Informational_Duration   12316 non-null  float64\n",
            " 4   ProductRelated           12316 non-null  float64\n",
            " 5   ProductRelated_Duration  12316 non-null  float64\n",
            " 6   BounceRates              12316 non-null  float64\n",
            " 7   ExitRates                12316 non-null  float64\n",
            " 8   PageValues               12330 non-null  float64\n",
            " 9   SpecialDay               12330 non-null  float64\n",
            " 10  Month                    12330 non-null  object \n",
            " 11  OperatingSystems         12330 non-null  int64  \n",
            " 12  Browser                  12330 non-null  int64  \n",
            " 13  Region                   12330 non-null  int64  \n",
            " 14  TrafficType              12330 non-null  int64  \n",
            " 15  VisitorType              12330 non-null  object \n",
            " 16  Weekend                  12330 non-null  bool   \n",
            " 17  Revenue                  12330 non-null  bool   \n",
            "dtypes: bool(2), float64(10), int64(4), object(2)\n",
            "memory usage: 1.5+ MB\n",
            "None\n",
            "\n",
            "Statistik deskriptif:\n",
            "        Administrative  Administrative_Duration  ...        Region   TrafficType\n",
            "count    12316.000000             12316.000000  ...  12330.000000  12330.000000\n",
            "mean         2.317798                80.906176  ...      3.147364      4.069586\n",
            "std          3.322754               176.860432  ...      2.401591      4.025169\n",
            "min          0.000000                -1.000000  ...      1.000000      1.000000\n",
            "25%          0.000000                 0.000000  ...      1.000000      2.000000\n",
            "50%          1.000000                 8.000000  ...      3.000000      2.000000\n",
            "75%          4.000000                93.500000  ...      4.000000      4.000000\n",
            "max         27.000000              3398.750000  ...      9.000000     20.000000\n",
            "\n",
            "[8 rows x 14 columns]\n"
          ],
          "name": "stdout"
        }
      ]
    },
    {
      "cell_type": "code",
      "metadata": {
        "id": "kBARAbp5fMXZ",
        "outputId": "0fce8e51-a4ac-4f6e-ba98-12d709c64765",
        "colab": {
          "base_uri": "https://localhost:8080/"
        }
      },
      "source": [
        "dataset_corr = dataset.corr()\n",
        "print('Korelasi dataset:\\n', dataset.corr())\n",
        "print('Distribusi Label (Revenue):\\n', dataset['Revenue'].value_counts())"
      ],
      "execution_count": 8,
      "outputs": [
        {
          "output_type": "stream",
          "text": [
            "Korelasi dataset:\n",
            "                          Administrative  ...   Revenue\n",
            "Administrative                 1.000000  ...  0.138631\n",
            "Administrative_Duration        0.601466  ...  0.093395\n",
            "Informational                  0.376782  ...  0.095085\n",
            "Informational_Duration         0.255757  ...  0.070250\n",
            "ProductRelated                 0.430832  ...  0.158280\n",
            "ProductRelated_Duration        0.373647  ...  0.152130\n",
            "BounceRates                   -0.223474  ... -0.150621\n",
            "ExitRates                     -0.316192  ... -0.206886\n",
            "PageValues                     0.098771  ...  0.492569\n",
            "SpecialDay                    -0.095054  ... -0.082305\n",
            "OperatingSystems              -0.006459  ... -0.014668\n",
            "Browser                       -0.025243  ...  0.023984\n",
            "Region                        -0.005680  ... -0.011595\n",
            "TrafficType                   -0.033748  ... -0.005113\n",
            "Weekend                        0.026404  ...  0.029295\n",
            "Revenue                        0.138631  ...  1.000000\n",
            "\n",
            "[16 rows x 16 columns]\n",
            "Distribusi Label (Revenue):\n",
            " False    10422\n",
            "True      1908\n",
            "Name: Revenue, dtype: int64\n"
          ],
          "name": "stdout"
        }
      ]
    },
    {
      "cell_type": "code",
      "metadata": {
        "id": "FJn9HI4mfwc3",
        "outputId": "a65461f7-f3f1-401a-f3fe-e15d16b680c0",
        "colab": {
          "base_uri": "https://localhost:8080/"
        }
      },
      "source": [
        "print('\\nKorelasi BounceRates-ExitRates:', dataset_corr.loc['BounceRates', 'ExitRates'])\n",
        "print('\\nKorelasi Revenue-PageValues:', dataset_corr.loc['Revenue', 'PageValues'])\n",
        "print('\\nKorelasi TrafficType-Weekend:', dataset_corr.loc['TrafficType', 'Weekend'])"
      ],
      "execution_count": 9,
      "outputs": [
        {
          "output_type": "stream",
          "text": [
            "\n",
            "Korelasi BounceRates-ExitRates: 0.9134364214595944\n",
            "\n",
            "Korelasi Revenue-PageValues: 0.49256929525114623\n",
            "\n",
            "Korelasi TrafficType-Weekend: -0.0022212292430307825\n"
          ],
          "name": "stdout"
        }
      ]
    },
    {
      "cell_type": "code",
      "metadata": {
        "id": "ygQ6lnlmgihM"
      },
      "source": [
        "import matplotlib.pyplot as plt\n",
        "import seaborn as sns"
      ],
      "execution_count": 10,
      "outputs": []
    },
    {
      "cell_type": "code",
      "metadata": {
        "id": "PgGiQpUrgjbY",
        "outputId": "7c528647-4ecb-4b68-ba74-24268e83bba4",
        "colab": {
          "base_uri": "https://localhost:8080/",
          "height": 447
        }
      },
      "source": [
        "# checking the Distribution of customers on Revenue\n",
        "plt.rcParams['figure.figsize'] = (12,5)\n",
        "plt.subplot(1,2,1)\n",
        "sns.countplot(dataset['Revenue'],palette = 'pastel')\n",
        "plt.title('Buy or Not',fontsize = 20)\n",
        "plt.xlabel('Revenue or not',fontsize = 14)\n",
        "plt.ylabel('count',fontsize = 14)\n",
        "# checking the Distribution of customers on Weekend\n",
        "plt.subplot(1,2,2)\n",
        "sns.countplot(dataset['Weekend'],palette = 'inferno')\n",
        "plt.title('Purchase on Weekends',fontsize = 20)\n",
        "plt.xlabel('Weekend or not',fontsize = 14)\n",
        "plt.ylabel('count',fontsize = 14)\n",
        "plt.show()"
      ],
      "execution_count": 11,
      "outputs": [
        {
          "output_type": "stream",
          "text": [
            "/usr/local/lib/python3.6/dist-packages/seaborn/_decorators.py:43: FutureWarning: Pass the following variable as a keyword arg: x. From version 0.12, the only valid positional argument will be `data`, and passing other arguments without an explicit keyword will result in an error or misinterpretation.\n",
            "  FutureWarning\n",
            "/usr/local/lib/python3.6/dist-packages/seaborn/_decorators.py:43: FutureWarning: Pass the following variable as a keyword arg: x. From version 0.12, the only valid positional argument will be `data`, and passing other arguments without an explicit keyword will result in an error or misinterpretation.\n",
            "  FutureWarning\n"
          ],
          "name": "stderr"
        },
        {
          "output_type": "display_data",
          "data": {
            "image/png": "[encoded data removed]",
            "text/plain": [
              "<Figure size 864x360 with 2 Axes>"
            ]
          },
          "metadata": {
            "tags": [],
            "needs_background": "light"
          }
        }
      ]
    },
    {
      "cell_type": "code",
      "metadata": {
        "id": "w_862O1mgnXw",
        "outputId": "467b6dc8-c095-40eb-bad6-e7cda746e76c",
        "colab": {
          "base_uri": "https://localhost:8080/",
          "height": 359
        }
      },
      "source": [
        "# visualizing the distribution of customers around the Region\n",
        "plt.hist(dataset['Region'], color = 'lightblue')\n",
        "plt.title('Distribution of Customers', fontsize = 20)\n",
        "plt.xlabel('Region Codes', fontsize = 14)\n",
        "plt.ylabel('Count Users', fontsize = 14)\n",
        "plt.show()"
      ],
      "execution_count": 12,
      "outputs": [
        {
          "output_type": "display_data",
          "data": {
            "image/png": "[encoded data removed]",
            "text/plain": [
              "<Figure size 864x360 with 1 Axes>"
            ]
          },
          "metadata": {
            "tags": [],
            "needs_background": "light"
          }
        }
      ]
    },
    {
      "cell_type": "code",
      "metadata": {
        "id": "PW1QypYdgy83",
        "outputId": "222a86ff-2195-4856-de80-ead72b9ef680",
        "colab": {
          "base_uri": "https://localhost:8080/"
        }
      },
      "source": [
        "#checking missing value for each feature  \n",
        "print('Checking missing value for each feature:')\n",
        "print(dataset.isnull().sum())\n",
        "#Counting total missing value\n",
        "print('\\nCounting total missing value:')\n",
        "print(dataset.isnull().sum().sum())"
      ],
      "execution_count": 13,
      "outputs": [
        {
          "output_type": "stream",
          "text": [
            "Checking missing value for each feature:\n",
            "Administrative             14\n",
            "Administrative_Duration    14\n",
            "Informational              14\n",
            "Informational_Duration     14\n",
            "ProductRelated             14\n",
            "ProductRelated_Duration    14\n",
            "BounceRates                14\n",
            "ExitRates                  14\n",
            "PageValues                  0\n",
            "SpecialDay                  0\n",
            "Month                       0\n",
            "OperatingSystems            0\n",
            "Browser                     0\n",
            "Region                      0\n",
            "TrafficType                 0\n",
            "VisitorType                 0\n",
            "Weekend                     0\n",
            "Revenue                     0\n",
            "dtype: int64\n",
            "\n",
            "Counting total missing value:\n",
            "112\n"
          ],
          "name": "stdout"
        }
      ]
    },
    {
      "cell_type": "code",
      "metadata": {
        "id": "-UQX0LTBg79T",
        "outputId": "05fb6f5e-ac2f-45f6-8694-70b5c7654be8",
        "colab": {
          "base_uri": "https://localhost:8080/"
        }
      },
      "source": [
        "#Drop rows with missing value   \n",
        "dataset_clean = dataset.dropna()  \n",
        "print('Ukuran dataset_clean:', dataset_clean.shape) "
      ],
      "execution_count": 14,
      "outputs": [
        {
          "output_type": "stream",
          "text": [
            "Ukuran dataset_clean: (12316, 18)\n"
          ],
          "name": "stdout"
        }
      ]
    },
    {
      "cell_type": "code",
      "metadata": {
        "id": "iB4eaKalg_7S",
        "outputId": "08acc071-48a7-48fc-f487-92f3cbbd81f3",
        "colab": {
          "base_uri": "https://localhost:8080/"
        }
      },
      "source": [
        "print(\"Before imputation:\")\n",
        "# Checking missing value for each feature\n",
        "print(dataset.isnull().sum())\n",
        "# Counting total missing value  \n",
        "print(dataset.isnull().sum().sum())"
      ],
      "execution_count": 15,
      "outputs": [
        {
          "output_type": "stream",
          "text": [
            "Before imputation:\n",
            "Administrative             14\n",
            "Administrative_Duration    14\n",
            "Informational              14\n",
            "Informational_Duration     14\n",
            "ProductRelated             14\n",
            "ProductRelated_Duration    14\n",
            "BounceRates                14\n",
            "ExitRates                  14\n",
            "PageValues                  0\n",
            "SpecialDay                  0\n",
            "Month                       0\n",
            "OperatingSystems            0\n",
            "Browser                     0\n",
            "Region                      0\n",
            "TrafficType                 0\n",
            "VisitorType                 0\n",
            "Weekend                     0\n",
            "Revenue                     0\n",
            "dtype: int64\n",
            "112\n"
          ],
          "name": "stdout"
        }
      ]
    },
    {
      "cell_type": "code",
      "metadata": {
        "id": "x4qG3joDhFyF",
        "outputId": "87cdf2dd-b6d1-41d2-c575-9cafbf608026",
        "colab": {
          "base_uri": "https://localhost:8080/"
        }
      },
      "source": [
        "print(\"\\nAfter imputation:\")\n",
        "# Fill missing value with mean of feature value  \n",
        "dataset.fillna(dataset.mean(), inplace = True)\n",
        "# Checking missing value for each feature  \n",
        "print(dataset.isnull().sum())\n",
        "# Counting total missing value  \n",
        "print(dataset.isnull().sum().sum())"
      ],
      "execution_count": 16,
      "outputs": [
        {
          "output_type": "stream",
          "text": [
            "\n",
            "After imputation:\n",
            "Administrative             0\n",
            "Administrative_Duration    0\n",
            "Informational              0\n",
            "Informational_Duration     0\n",
            "ProductRelated             0\n",
            "ProductRelated_Duration    0\n",
            "BounceRates                0\n",
            "ExitRates                  0\n",
            "PageValues                 0\n",
            "SpecialDay                 0\n",
            "Month                      0\n",
            "OperatingSystems           0\n",
            "Browser                    0\n",
            "Region                     0\n",
            "TrafficType                0\n",
            "VisitorType                0\n",
            "Weekend                    0\n",
            "Revenue                    0\n",
            "dtype: int64\n",
            "0\n"
          ],
          "name": "stdout"
        }
      ]
    },
    {
      "cell_type": "code",
      "metadata": {
        "id": "lEqUCt_dhJSF",
        "outputId": "22eb5982-d2c5-463a-94b9-2f77f03dd802",
        "colab": {
          "base_uri": "https://localhost:8080/"
        }
      },
      "source": [
        "from sklearn.preprocessing import MinMaxScaler\n",
        "#Define MinMaxScaler as scaler\n",
        "scaler = MinMaxScaler()\n",
        "#list all the feature that need to be scaled\n",
        "scaling_column = ['Administrative','Administrative_Duration','Informational','Informational_Duration','ProductRelated','ProductRelated_Duration','BounceRates','ExitRates','PageValues']\n",
        "#Apply fit_transfrom to scale selected feature\n",
        "dataset[scaling_column] = scaler.fit_transform(dataset[scaling_column])\n",
        "#Cheking min and max value of the scaling_column\n",
        "print(dataset[scaling_column].describe().T[['min','max']])"
      ],
      "execution_count": 17,
      "outputs": [
        {
          "output_type": "stream",
          "text": [
            "                         min  max\n",
            "Administrative           0.0  1.0\n",
            "Administrative_Duration  0.0  1.0\n",
            "Informational            0.0  1.0\n",
            "Informational_Duration   0.0  1.0\n",
            "ProductRelated           0.0  1.0\n",
            "ProductRelated_Duration  0.0  1.0\n",
            "BounceRates              0.0  1.0\n",
            "ExitRates                0.0  1.0\n",
            "PageValues               0.0  1.0\n"
          ],
          "name": "stdout"
        }
      ]
    },
    {
      "cell_type": "code",
      "metadata": {
        "id": "PIvhGdSkhzCi"
      },
      "source": [
        "import numpy as np\n",
        "from sklearn.preprocessing import LabelEncoder"
      ],
      "execution_count": 19,
      "outputs": []
    },
    {
      "cell_type": "code",
      "metadata": {
        "id": "tzj7m0zAijST",
        "outputId": "f1b587b9-68b2-4802-c904-276d84961c1d",
        "colab": {
          "base_uri": "https://localhost:8080/"
        }
      },
      "source": [
        "# Convert feature/column 'Month'\n",
        "LE = LabelEncoder()\n",
        "dataset['Month'] = LE.fit_transform(dataset['Month'])\n",
        "print(LE.classes_)\n",
        "print(np.sort(dataset['Month'].unique()))\n",
        "print('')"
      ],
      "execution_count": 22,
      "outputs": [
        {
          "output_type": "stream",
          "text": [
            "[0 1 2 3 4 5 6 7 8 9]\n",
            "[0 1 2 3 4 5 6 7 8 9]\n",
            "\n"
          ],
          "name": "stdout"
        }
      ]
    },
    {
      "cell_type": "code",
      "metadata": {
        "id": "Uv0TNLXoim4-",
        "outputId": "dc930699-3ce4-42ce-9600-f1965d5c17a8",
        "colab": {
          "base_uri": "https://localhost:8080/"
        }
      },
      "source": [
        "# Convert feature/column 'VisitorType'\n",
        "LE = LabelEncoder()\n",
        "dataset['VisitorType'] = LE.fit_transform(dataset['VisitorType'])\n",
        "print(LE.classes_)\n",
        "print(np.sort(dataset['VisitorType'].unique()))"
      ],
      "execution_count": 21,
      "outputs": [
        {
          "output_type": "stream",
          "text": [
            "['New_Visitor' 'Other' 'Returning_Visitor']\n",
            "[0 1 2]\n"
          ],
          "name": "stdout"
        }
      ]
    },
    {
      "cell_type": "code",
      "metadata": {
        "id": "SxrCO6oWi2wz",
        "outputId": "cec49687-0bbd-44ef-8e48-6a961ec17295",
        "colab": {
          "base_uri": "https://localhost:8080/"
        }
      },
      "source": [
        "# removing the target column Revenue from dataset and assigning to X\n",
        "X = dataset.drop(['Revenue'],axis=1)\n",
        "# assigning the target column Revenue to y\n",
        "y = dataset['Revenue']\n",
        "# checking the shapes\n",
        "print(\"Shape of X:\",X.shape)\n",
        "print(\"Shape of Y:\",y.shape)"
      ],
      "execution_count": 24,
      "outputs": [
        {
          "output_type": "stream",
          "text": [
            "Shape of X: (12330, 17)\n",
            "Shape of Y: (12330,)\n"
          ],
          "name": "stdout"
        }
      ]
    },
    {
      "cell_type": "code",
      "metadata": {
        "id": "zo6ZqKz8k5fL",
        "outputId": "354a83e0-1aec-4246-a5bb-3509cf936d87",
        "colab": {
          "base_uri": "https://localhost:8080/"
        }
      },
      "source": [
        "from sklearn.model_selection import train_test_split\n",
        "# splitting the X, and y\n",
        "X_train,X_test,y_train,y_test = train_test_split(X,y,test_size=0.2,random_state=0)\n",
        "# checking the shapes\n",
        "print(\"Shape of X_train :\",X_train.shape)\n",
        "print(\"Shape of y_train :\",y_train.shape)\n",
        "print(\"Shape of X_test :\",X_test.shape)\n",
        "print(\"Shape of y_test :\",y_test.shape)"
      ],
      "execution_count": 26,
      "outputs": [
        {
          "output_type": "stream",
          "text": [
            "Shape of X_train : (9864, 17)\n",
            "Shape of y_train : (9864,)\n",
            "Shape of X_test : (2466, 17)\n",
            "Shape of y_test : (2466,)\n"
          ],
          "name": "stdout"
        }
      ]
    },
    {
      "cell_type": "code",
      "metadata": {
        "id": "T92hkNhblN0n"
      },
      "source": [
        "from sklearn.tree import DecisionTreeClassifier\n",
        "# Call the classifier\n",
        "model = DecisionTreeClassifier()\n",
        "# Fit the classifier to the training data\n",
        "model = model.fit(X_train,y_train)"
      ],
      "execution_count": 27,
      "outputs": []
    },
    {
      "cell_type": "code",
      "metadata": {
        "id": "3CDWQRjOlaBB",
        "outputId": "fe3f51b9-167b-4765-ad41-5a269db30136",
        "colab": {
          "base_uri": "https://localhost:8080/"
        }
      },
      "source": [
        "# Apply the classifier/model to the test data\n",
        "y_pred = model.predict(X_test)\n",
        "print(y_pred.shape)"
      ],
      "execution_count": 28,
      "outputs": [
        {
          "output_type": "stream",
          "text": [
            "(2466,)\n"
          ],
          "name": "stdout"
        }
      ]
    },
    {
      "cell_type": "code",
      "metadata": {
        "id": "ZYnTPLgGmBhK",
        "outputId": "9dc28c3e-0c75-40d3-ed66-b23bb9939040",
        "colab": {
          "base_uri": "https://localhost:8080/"
        }
      },
      "source": [
        "from sklearn.metrics import confusion_matrix, classification_report\n",
        "\n",
        "# evaluating the model\n",
        "print('Training Accuracy :', model.score(X_train,y_train))\n",
        "print('Testing Accuracy :', model.score(X_test,y_test))"
      ],
      "execution_count": 32,
      "outputs": [
        {
          "output_type": "stream",
          "text": [
            "Training Accuracy : 1.0\n",
            "Testing Accuracy : 0.8625304136253041\n"
          ],
          "name": "stdout"
        }
      ]
    },
    {
      "cell_type": "code",
      "metadata": {
        "id": "1vWYl7kOmCil",
        "outputId": "7d2cfc64-e208-4eb8-bcb2-207d5325858f",
        "colab": {
          "base_uri": "https://localhost:8080/"
        }
      },
      "source": [
        "# confusion matrix\n",
        "print('\\nConfusion matrix:')\n",
        "cm = confusion_matrix(y_test,y_pred)\n",
        "print(cm)"
      ],
      "execution_count": 33,
      "outputs": [
        {
          "output_type": "stream",
          "text": [
            "\n",
            "Confusion matrix:\n",
            "[[1887  157]\n",
            " [ 182  240]]\n"
          ],
          "name": "stdout"
        }
      ]
    },
    {
      "cell_type": "code",
      "metadata": {
        "id": "RZtmhjzAmEZX",
        "outputId": "a6eeab10-0de2-4644-8b02-f35ed3d4d35c",
        "colab": {
          "base_uri": "https://localhost:8080/"
        }
      },
      "source": [
        "# classification report\n",
        "print('\\nClassification report:')\n",
        "cr = classification_report(y_test,y_pred)\n",
        "print(cr)"
      ],
      "execution_count": 34,
      "outputs": [
        {
          "output_type": "stream",
          "text": [
            "\n",
            "Classification report:\n",
            "              precision    recall  f1-score   support\n",
            "\n",
            "       False       0.91      0.92      0.92      2044\n",
            "        True       0.60      0.57      0.59       422\n",
            "\n",
            "    accuracy                           0.86      2466\n",
            "   macro avg       0.76      0.75      0.75      2466\n",
            "weighted avg       0.86      0.86      0.86      2466\n",
            "\n"
          ],
          "name": "stdout"
        }
      ]
    },
    {
      "cell_type": "markdown",
      "metadata": {
        "id": "EcF_XEXGmb-I"
      },
      "source": [
        "Jika dataset memiliki jumlah data False Negatif dan False Positif yang seimbang (Symmetric), maka bisa gunakan **Accuracy**, tetapi jika tidak seimbang, maka sebaiknya menggunakan **F1-Score**.\n",
        "\n",
        "Dalam suatu problem, jika lebih memilih False Positif lebih baik terjadi daripada False Negatif, misalnya: Dalam kasus Fraud/Scam, kecenderungan model mendeteksi transaksi sebagai fraud walaupun kenyataannya bukan, dianggap lebih baik, daripada transaksi tersebut tidak terdeteksi sebagai fraud tetapi ternyata fraud. Untuk problem ini sebaiknya menggunakan **Recall**.\n",
        "\n",
        "Sebaliknya, jika lebih menginginkan terjadinya True Negatif dan sangat tidak menginginkan terjadinya False Positif, sebaiknya menggunakan **Precision**.\n",
        "\n",
        "Contohnya adalah pada kasus klasifikasi email SPAM atau tidak. Banyak orang lebih memilih jika email yang sebenarnya SPAM namun diprediksi tidak SPAM (sehingga tetap ada pada kotak masuk email kita), daripada email yang sebenarnya bukan SPAM tapi diprediksi SPAM (sehingga tidak ada pada kotak masuk email)."
      ]
    },
    {
      "cell_type": "markdown",
      "metadata": {
        "id": "lxZVJ94No0sm"
      },
      "source": [
        "## Logistic Regression"
      ]
    },
    {
      "cell_type": "code",
      "metadata": {
        "id": "puZ-swkrmc5i",
        "outputId": "e8f2f5e2-0cbc-448f-e8f6-fb110b5047b3",
        "colab": {
          "base_uri": "https://localhost:8080/"
        }
      },
      "source": [
        "from sklearn.linear_model import LogisticRegression\n",
        "# Call the classifier\n",
        "logreg = LogisticRegression()\n",
        "# Fit the classifier to the training data  \n",
        "logreg = logreg.fit(X_train,y_train)\n",
        "#Training Model: Predict \n",
        "y_pred = logreg.predict(X_test)"
      ],
      "execution_count": 35,
      "outputs": [
        {
          "output_type": "stream",
          "text": [
            "/usr/local/lib/python3.6/dist-packages/sklearn/linear_model/_logistic.py:940: ConvergenceWarning: lbfgs failed to converge (status=1):\n",
            "STOP: TOTAL NO. of ITERATIONS REACHED LIMIT.\n",
            "\n",
            "Increase the number of iterations (max_iter) or scale the data as shown in:\n",
            "    https://scikit-learn.org/stable/modules/preprocessing.html\n",
            "Please also refer to the documentation for alternative solver options:\n",
            "    https://scikit-learn.org/stable/modules/linear_model.html#logistic-regression\n",
            "  extra_warning_msg=_LOGISTIC_SOLVER_CONVERGENCE_MSG)\n"
          ],
          "name": "stderr"
        }
      ]
    },
    {
      "cell_type": "code",
      "metadata": {
        "id": "S1sr7HeJoi3h",
        "outputId": "7b307913-6c5e-46c4-af89-60d0f4d58d6d",
        "colab": {
          "base_uri": "https://localhost:8080/"
        }
      },
      "source": [
        "#Evaluate Model Performance\n",
        "print('Training Accuracy :', model.score(X_train,y_train))  \n",
        "print('Testing Accuracy :', model.score(X_test,y_test))  "
      ],
      "execution_count": 36,
      "outputs": [
        {
          "output_type": "stream",
          "text": [
            "Training Accuracy : 1.0\n",
            "Testing Accuracy : 0.8625304136253041\n"
          ],
          "name": "stdout"
        }
      ]
    },
    {
      "cell_type": "code",
      "metadata": {
        "id": "aN48kxAZokf9",
        "outputId": "9ee64cea-a567-45b6-c6a9-b9b1049eaf90",
        "colab": {
          "base_uri": "https://localhost:8080/"
        }
      },
      "source": [
        "# confusion matrix\n",
        "print('\\nConfusion matrix')  \n",
        "cm = confusion_matrix(y_test,y_pred)  \n",
        "print(cm)"
      ],
      "execution_count": 37,
      "outputs": [
        {
          "output_type": "stream",
          "text": [
            "\n",
            "Confusion matrix\n",
            "[[2010   34]\n",
            " [ 316  106]]\n"
          ],
          "name": "stdout"
        }
      ]
    },
    {
      "cell_type": "code",
      "metadata": {
        "id": "9K12I8sxoo3x",
        "outputId": "f2d05bb6-4011-421c-d3b0-97e55dc2707b",
        "colab": {
          "base_uri": "https://localhost:8080/"
        }
      },
      "source": [
        "# classification report  \n",
        "print('\\nClassification report')  \n",
        "cr = classification_report(y_test,y_pred)  \n",
        "print(cr)"
      ],
      "execution_count": 38,
      "outputs": [
        {
          "output_type": "stream",
          "text": [
            "\n",
            "Classification report\n",
            "              precision    recall  f1-score   support\n",
            "\n",
            "       False       0.86      0.98      0.92      2044\n",
            "        True       0.76      0.25      0.38       422\n",
            "\n",
            "    accuracy                           0.86      2466\n",
            "   macro avg       0.81      0.62      0.65      2466\n",
            "weighted avg       0.85      0.86      0.83      2466\n",
            "\n"
          ],
          "name": "stdout"
        }
      ]
    },
    {
      "cell_type": "markdown",
      "metadata": {
        "id": "hMy-t0k5pZjq"
      },
      "source": [
        "## Decision Tree"
      ]
    },
    {
      "cell_type": "code",
      "metadata": {
        "id": "I6KoyioUpbAk",
        "outputId": "fe4b34ff-5b54-4ce0-f796-e45696033050",
        "colab": {
          "base_uri": "https://localhost:8080/"
        }
      },
      "source": [
        "# splitting the data\n",
        "X_train, X_test, y_train, y_test = train_test_split(X, y, test_size = 0.3, random_state = 0)\n",
        "\n",
        "# Call the classifier\n",
        "decision_tree = DecisionTreeClassifier()\n",
        "# Fit the classifier to the training data\n",
        "decision_tree = decision_tree.fit(X_train,y_train)\n",
        "\n",
        "# evaluating the decision_tree performance\n",
        "print('Training Accuracy :', decision_tree.score(X_train,y_train))\n",
        "print('Testing Accuracy :', decision_tree.score(X_test,y_test))"
      ],
      "execution_count": 40,
      "outputs": [
        {
          "output_type": "stream",
          "text": [
            "Training Accuracy : 1.0\n",
            "Testing Accuracy : 0.8607731819410651\n"
          ],
          "name": "stdout"
        }
      ]
    },
    {
      "cell_type": "markdown",
      "metadata": {
        "id": "jLwwNyQdqq6U"
      },
      "source": [
        "## Regression"
      ]
    },
    {
      "cell_type": "markdown",
      "metadata": {
        "id": "wn-u7IDArH9Y"
      },
      "source": [
        "Perlu diketahui bahwa tidak semua problem dapat diselesaikan dengan linear regression. Untuk pemodelan dengan linear regression, terdapat beberapa asumsi yang harus dipenuhi, yaitu :\n",
        "\n",
        "1.   Terdapat hubungan linear antara variabel input (feature) dan variabel output(label). Untuk melihat hubungan linear feature dan label, dapat menggunakan chart seperti scatter chart. Untuk mengetahui hubungan dari variabel umumnya dilakukan pada tahap eksplorasi data.\n",
        "2.   Tidak ada multicollinearity antara features. Multicollinearity artinya terdapat dependency antara feature, misalnya saja hanya bisa mengetahui nilai feature B jika nilai feature A sudah diketahui.\n",
        "3.   Tidak ada autocorrelation dalam data, contohnya pada time-series data.\n"
      ]
    },
    {
      "cell_type": "code",
      "metadata": {
        "id": "HVDt5Xx1qu1O"
      },
      "source": [
        "#load dataset\n",
        "housing = pd.read_csv('https://dqlab-dataset.s3-ap-southeast-1.amazonaws.com/pythonTutorial/housing_boston.csv')"
      ],
      "execution_count": 41,
      "outputs": []
    },
    {
      "cell_type": "code",
      "metadata": {
        "id": "_rHicoj0tvBU"
      },
      "source": [
        "#Data rescaling\n",
        "from sklearn import preprocessing\n",
        "data_scaler = preprocessing.MinMaxScaler(feature_range=(0,1))\n",
        "housing[['RM','LSTAT','PTRATIO','MEDV']] = data_scaler.fit_transform(housing[['RM','LSTAT','PTRATIO','MEDV']])"
      ],
      "execution_count": 42,
      "outputs": []
    },
    {
      "cell_type": "code",
      "metadata": {
        "id": "D4dDFm17tz4x",
        "outputId": "a2423da7-0cda-4823-9fe7-d73ba5005289",
        "colab": {
          "base_uri": "https://localhost:8080/"
        }
      },
      "source": [
        "# getting dependent and independent variables\n",
        "X = housing.drop(['MEDV'], axis = 1)\n",
        "y = housing['MEDV']\n",
        "# checking the shapes\n",
        "print('Shape of X:', X.shape)\n",
        "print('Shape of y:', y.shape)"
      ],
      "execution_count": 43,
      "outputs": [
        {
          "output_type": "stream",
          "text": [
            "Shape of X: (489, 3)\n",
            "Shape of y: (489,)\n"
          ],
          "name": "stdout"
        }
      ]
    },
    {
      "cell_type": "code",
      "metadata": {
        "id": "mj6sT4ngt4cw",
        "outputId": "4d710a1c-e7a3-4ec8-89f1-ef71f028dd29",
        "colab": {
          "base_uri": "https://localhost:8080/"
        }
      },
      "source": [
        "# splitting the data\n",
        "X_train, X_test, y_train, y_test = train_test_split(X, y, test_size = 0.3, random_state = 0)\n",
        "# checking the shapes  \n",
        "print('Shape of X_train :', X_train.shape)\n",
        "print('Shape of y_train :', y_train.shape)\n",
        "print('Shape of X_test :', X_test.shape)\n",
        "print('Shape of y_test :', y_test.shape)"
      ],
      "execution_count": 45,
      "outputs": [
        {
          "output_type": "stream",
          "text": [
            "Shape of X_train : (342, 3)\n",
            "Shape of y_train : (342,)\n",
            "Shape of X_test : (147, 3)\n",
            "Shape of y_test : (147,)\n"
          ],
          "name": "stdout"
        }
      ]
    },
    {
      "cell_type": "code",
      "metadata": {
        "id": "XopD5fCjwFq7"
      },
      "source": [
        "from sklearn.linear_model import LinearRegression\n",
        "# Call the regressor\n",
        "reg = LinearRegression()\n",
        "# Fit the regressor to the training data  \n",
        "reg = reg.fit(X_train,y_train)\n",
        "# Apply the regressor/model to the test data  \n",
        "y_pred = reg.predict(X_test)"
      ],
      "execution_count": 48,
      "outputs": []
    },
    {
      "cell_type": "code",
      "metadata": {
        "id": "lKnWmBMryRpw",
        "outputId": "ea144ff6-a150-4e22-f71a-b24af1a5fdb4",
        "colab": {
          "base_uri": "https://localhost:8080/"
        }
      },
      "source": [
        "from sklearn.metrics import mean_squared_error, mean_absolute_error\n",
        "#Calculating MSE, lower the value better it is. 0 means perfect prediction\n",
        "mse = mean_squared_error(y_test, y_pred)\n",
        "print('Mean squared error of testing set:', mse)"
      ],
      "execution_count": 49,
      "outputs": [
        {
          "output_type": "stream",
          "text": [
            "Mean squared error of testing set: 0.010913024655841009\n"
          ],
          "name": "stdout"
        }
      ]
    },
    {
      "cell_type": "code",
      "metadata": {
        "id": "UW-673d8ybBN",
        "outputId": "606e7f76-927b-4726-c8c0-59a0e66b58d7",
        "colab": {
          "base_uri": "https://localhost:8080/"
        }
      },
      "source": [
        "#Calculating MAE\n",
        "mae = mean_absolute_error(y_test, y_pred)\n",
        "print('Mean absolute error of testing set:', mae)"
      ],
      "execution_count": 50,
      "outputs": [
        {
          "output_type": "stream",
          "text": [
            "Mean absolute error of testing set: 0.07789896103120689\n"
          ],
          "name": "stdout"
        }
      ]
    },
    {
      "cell_type": "code",
      "metadata": {
        "id": "mQlPVOKJynKL",
        "outputId": "c279665d-fcd0-4c24-bde0-bc92c5fb07fd",
        "colab": {
          "base_uri": "https://localhost:8080/"
        }
      },
      "source": [
        "#Calculating RMSE\n",
        "rmse = np.sqrt(mse)\n",
        "print('Root Mean Squared Error of testing set:', rmse)"
      ],
      "execution_count": 51,
      "outputs": [
        {
          "output_type": "stream",
          "text": [
            "Root Mean Squared Error of testing set: 0.1044654232549747\n"
          ],
          "name": "stdout"
        }
      ]
    },
    {
      "cell_type": "code",
      "metadata": {
        "id": "9UjgdMZ1yqeI",
        "outputId": "d5e872f4-ad6e-4ce3-925a-6d3492f1a10d",
        "colab": {
          "base_uri": "https://localhost:8080/",
          "height": 350
        }
      },
      "source": [
        "#Plotting y_test dan y_pred\n",
        "plt.scatter(y_test, y_pred, c = 'green')\n",
        "plt.xlabel('Price Actual')\n",
        "plt.ylabel('Predicted value')\n",
        "plt.title('True value vs predicted value : Linear Regression')\n",
        "plt.show()"
      ],
      "execution_count": 53,
      "outputs": [
        {
          "output_type": "display_data",
          "data": {
            "image/png": "[encoded data removed]",
            "text/plain": [
              "<Figure size 864x360 with 1 Axes>"
            ]
          },
          "metadata": {
            "tags": [],
            "needs_background": "light"
          }
        }
      ]
    },
    {
      "cell_type": "markdown",
      "metadata": {
        "id": "PJNEHqRT0VC3"
      },
      "source": [
        "## KMeans"
      ]
    },
    {
      "cell_type": "code",
      "metadata": {
        "id": "sRKnRRa10WKZ"
      },
      "source": [
        "from sklearn.cluster import KMeans\n",
        "#load dataset\n",
        "dataset = pd.read_csv('https://dqlab-dataset.s3-ap-southeast-1.amazonaws.com/pythonTutorial/mall_customers.csv')\n",
        "\n",
        "#selecting features  \n",
        "X = dataset[['annual_income','spending_score']]  \n",
        "\n",
        "#Define KMeans as cluster_model  \n",
        "cluster_model = KMeans(n_clusters = 5, random_state = 24)  \n",
        "labels = cluster_model.fit_predict(X)"
      ],
      "execution_count": 60,
      "outputs": []
    },
    {
      "cell_type": "code",
      "metadata": {
        "id": "yEVQR_rs0Za4",
        "outputId": "11b434ac-cb61-4a57-f6a5-1f47d822ef82",
        "colab": {
          "base_uri": "https://localhost:8080/",
          "height": 355
        }
      },
      "source": [
        "#import library\n",
        "import matplotlib.pyplot as plt\n",
        "\n",
        "#convert dataframe to array\n",
        "X = X.values\n",
        "#Separate X to xs and ys --> use for chart axis\n",
        "xs = X[:,0]\n",
        "ys = X[:,1]\n",
        "# Make a scatter plot of xs and ys, using labels to define the colors\n",
        "plt.scatter(xs,ys,c=labels, alpha=0.5)\n",
        "\n",
        "# Assign the cluster centers: centroids\n",
        "centroids = cluster_model.cluster_centers_\n",
        "# Assign the columns of centroids: centroids_x, centroids_y\n",
        "centroids_x = centroids[:,0]\n",
        "centroids_y = centroids[:,1]\n",
        "# Make a scatter plot of centroids_x and centroids_y\n",
        "plt.scatter(centroids_x,centroids_y,marker='D', s=50)\n",
        "plt.title('K Means Clustering', fontsize = 20)\n",
        "plt.xlabel('Annual Income')\n",
        "plt.ylabel('Spending Score')\n",
        "plt.show()"
      ],
      "execution_count": 61,
      "outputs": [
        {
          "output_type": "display_data",
          "data": {
            "image/png": "[encoded data removed]",
            "text/plain": [
              "<Figure size 864x360 with 1 Axes>"
            ]
          },
          "metadata": {
            "tags": [],
            "needs_background": "light"
          }
        }
      ]
    },
    {
      "cell_type": "code",
      "metadata": {
        "id": "UoKPldYt1h2B"
      },
      "source": [
        "#Elbow Method - Inertia plot\n",
        "inertia = []\n",
        "#looping the inertia calculation for each k\n",
        "for k in range(1, 10):\n",
        "    #Assign KMeans as cluster_model\n",
        "    cluster_model = KMeans(n_clusters = k, random_state = 24)\n",
        "    #Fit cluster_model to X\n",
        "    cluster_model.fit(X)\n",
        "    #Get the inertia value\n",
        "    inertia_value = cluster_model.inertia_\n",
        "    #Append the inertia_value to inertia list\n",
        "    inertia.append(inertia_value)"
      ],
      "execution_count": 62,
      "outputs": []
    },
    {
      "cell_type": "code",
      "metadata": {
        "id": "PCiZpwFy3MIM",
        "outputId": "622798f0-9b8d-4b86-ebd0-146d86c7f131",
        "colab": {
          "base_uri": "https://localhost:8080/",
          "height": 355
        }
      },
      "source": [
        "##Inertia plot\n",
        "plt.plot(range(1, 10), inertia)\n",
        "plt.title('The Elbow Method - Inertia Plot', fontsize = 20)\n",
        "plt.xlabel('No. of Clusters')\n",
        "plt.ylabel('Inertia')\n",
        "plt.show()"
      ],
      "execution_count": 63,
      "outputs": [
        {
          "output_type": "display_data",
          "data": {
            "image/png": "[encoded data removed]",
            "text/plain": [
              "<Figure size 864x360 with 1 Axes>"
            ]
          },
          "metadata": {
            "tags": [],
            "needs_background": "light"
          }
        }
      ]
    }
  ]
}