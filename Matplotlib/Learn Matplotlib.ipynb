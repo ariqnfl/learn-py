{
 "cells": [
  {
   "cell_type": "code",
   "execution_count": 1,
   "metadata": {},
   "outputs": [],
   "source": [
    "import pandas as pd"
   ]
  },
  {
   "cell_type": "code",
   "execution_count": 2,
   "metadata": {},
   "outputs": [],
   "source": [
    "dataset = pd.read_csv('https://dqlab-dataset.s3-ap-southeast-1.amazonaws.com/retail_raw_reduced.csv')"
   ]
  },
  {
   "cell_type": "code",
   "execution_count": 3,
   "metadata": {},
   "outputs": [
    {
     "name": "stdout",
     "output_type": "stream",
     "text": [
      "ukuran dataset 5000 baris dan 9 kolom\n",
      "\n"
     ]
    }
   ],
   "source": [
    "print('ukuran dataset %d baris dan %d kolom\\n'%dataset.shape)"
   ]
  },
  {
   "cell_type": "code",
   "execution_count": 4,
   "metadata": {},
   "outputs": [
    {
     "data": {
      "text/html": [
       "<div>\n",
       "<style scoped>\n",
       "    .dataframe tbody tr th:only-of-type {\n",
       "        vertical-align: middle;\n",
       "    }\n",
       "\n",
       "    .dataframe tbody tr th {\n",
       "        vertical-align: top;\n",
       "    }\n",
       "\n",
       "    .dataframe thead th {\n",
       "        text-align: right;\n",
       "    }\n",
       "</style>\n",
       "<table border=\"1\" class=\"dataframe\">\n",
       "  <thead>\n",
       "    <tr style=\"text-align: right;\">\n",
       "      <th></th>\n",
       "      <th>order_id</th>\n",
       "      <th>order_date</th>\n",
       "      <th>customer_id</th>\n",
       "      <th>city</th>\n",
       "      <th>province</th>\n",
       "      <th>product_id</th>\n",
       "      <th>brand</th>\n",
       "      <th>quantity</th>\n",
       "      <th>item_price</th>\n",
       "    </tr>\n",
       "  </thead>\n",
       "  <tbody>\n",
       "    <tr>\n",
       "      <th>0</th>\n",
       "      <td>1703458</td>\n",
       "      <td>2019-10-17</td>\n",
       "      <td>14004</td>\n",
       "      <td>Jakarta Selatan</td>\n",
       "      <td>DKI Jakarta</td>\n",
       "      <td>P1910</td>\n",
       "      <td>BRAND_J</td>\n",
       "      <td>10</td>\n",
       "      <td>740000</td>\n",
       "    </tr>\n",
       "    <tr>\n",
       "      <th>1</th>\n",
       "      <td>1706815</td>\n",
       "      <td>2019-10-24</td>\n",
       "      <td>17220</td>\n",
       "      <td>Jakarta Selatan</td>\n",
       "      <td>DKI Jakarta</td>\n",
       "      <td>P2934</td>\n",
       "      <td>BRAND_R</td>\n",
       "      <td>2</td>\n",
       "      <td>604000</td>\n",
       "    </tr>\n",
       "    <tr>\n",
       "      <th>2</th>\n",
       "      <td>1710718</td>\n",
       "      <td>2019-11-03</td>\n",
       "      <td>16518</td>\n",
       "      <td>Jakarta Utara</td>\n",
       "      <td>DKI Jakarta</td>\n",
       "      <td>P0908</td>\n",
       "      <td>BRAND_C</td>\n",
       "      <td>8</td>\n",
       "      <td>1045000</td>\n",
       "    </tr>\n",
       "    <tr>\n",
       "      <th>3</th>\n",
       "      <td>1683592</td>\n",
       "      <td>2019-08-19</td>\n",
       "      <td>16364</td>\n",
       "      <td>Jakarta Barat</td>\n",
       "      <td>DKI Jakarta</td>\n",
       "      <td>P0128</td>\n",
       "      <td>BRAND_A</td>\n",
       "      <td>4</td>\n",
       "      <td>205000</td>\n",
       "    </tr>\n",
       "    <tr>\n",
       "      <th>4</th>\n",
       "      <td>1702573</td>\n",
       "      <td>2019-10-16</td>\n",
       "      <td>15696</td>\n",
       "      <td>Jakarta Timur</td>\n",
       "      <td>DKI Jakarta</td>\n",
       "      <td>P2968</td>\n",
       "      <td>BRAND_R</td>\n",
       "      <td>2</td>\n",
       "      <td>4475000</td>\n",
       "    </tr>\n",
       "  </tbody>\n",
       "</table>\n",
       "</div>"
      ],
      "text/plain": [
       "   order_id  order_date  customer_id             city     province product_id  \\\n",
       "0   1703458  2019-10-17        14004  Jakarta Selatan  DKI Jakarta      P1910   \n",
       "1   1706815  2019-10-24        17220  Jakarta Selatan  DKI Jakarta      P2934   \n",
       "2   1710718  2019-11-03        16518    Jakarta Utara  DKI Jakarta      P0908   \n",
       "3   1683592  2019-08-19        16364    Jakarta Barat  DKI Jakarta      P0128   \n",
       "4   1702573  2019-10-16        15696    Jakarta Timur  DKI Jakarta      P2968   \n",
       "\n",
       "     brand  quantity  item_price  \n",
       "0  BRAND_J        10      740000  \n",
       "1  BRAND_R         2      604000  \n",
       "2  BRAND_C         8     1045000  \n",
       "3  BRAND_A         4      205000  \n",
       "4  BRAND_R         2     4475000  "
      ]
     },
     "execution_count": 4,
     "metadata": {},
     "output_type": "execute_result"
    }
   ],
   "source": [
    "dataset.head()"
   ]
  },
  {
   "cell_type": "code",
   "execution_count": 9,
   "metadata": {},
   "outputs": [
    {
     "data": {
      "text/html": [
       "<div>\n",
       "<style scoped>\n",
       "    .dataframe tbody tr th:only-of-type {\n",
       "        vertical-align: middle;\n",
       "    }\n",
       "\n",
       "    .dataframe tbody tr th {\n",
       "        vertical-align: top;\n",
       "    }\n",
       "\n",
       "    .dataframe thead th {\n",
       "        text-align: right;\n",
       "    }\n",
       "</style>\n",
       "<table border=\"1\" class=\"dataframe\">\n",
       "  <thead>\n",
       "    <tr style=\"text-align: right;\">\n",
       "      <th></th>\n",
       "      <th>order_id</th>\n",
       "      <th>order_date</th>\n",
       "      <th>customer_id</th>\n",
       "      <th>city</th>\n",
       "      <th>province</th>\n",
       "      <th>product_id</th>\n",
       "      <th>brand</th>\n",
       "      <th>quantity</th>\n",
       "      <th>item_price</th>\n",
       "      <th>order_month</th>\n",
       "      <th>gmv</th>\n",
       "    </tr>\n",
       "  </thead>\n",
       "  <tbody>\n",
       "    <tr>\n",
       "      <th>0</th>\n",
       "      <td>1703458</td>\n",
       "      <td>2019-10-17</td>\n",
       "      <td>14004</td>\n",
       "      <td>Jakarta Selatan</td>\n",
       "      <td>DKI Jakarta</td>\n",
       "      <td>P1910</td>\n",
       "      <td>BRAND_J</td>\n",
       "      <td>10</td>\n",
       "      <td>740000</td>\n",
       "      <td>2019-10</td>\n",
       "      <td>7400000</td>\n",
       "    </tr>\n",
       "    <tr>\n",
       "      <th>1</th>\n",
       "      <td>1706815</td>\n",
       "      <td>2019-10-24</td>\n",
       "      <td>17220</td>\n",
       "      <td>Jakarta Selatan</td>\n",
       "      <td>DKI Jakarta</td>\n",
       "      <td>P2934</td>\n",
       "      <td>BRAND_R</td>\n",
       "      <td>2</td>\n",
       "      <td>604000</td>\n",
       "      <td>2019-10</td>\n",
       "      <td>1208000</td>\n",
       "    </tr>\n",
       "    <tr>\n",
       "      <th>2</th>\n",
       "      <td>1710718</td>\n",
       "      <td>2019-11-03</td>\n",
       "      <td>16518</td>\n",
       "      <td>Jakarta Utara</td>\n",
       "      <td>DKI Jakarta</td>\n",
       "      <td>P0908</td>\n",
       "      <td>BRAND_C</td>\n",
       "      <td>8</td>\n",
       "      <td>1045000</td>\n",
       "      <td>2019-11</td>\n",
       "      <td>8360000</td>\n",
       "    </tr>\n",
       "    <tr>\n",
       "      <th>3</th>\n",
       "      <td>1683592</td>\n",
       "      <td>2019-08-19</td>\n",
       "      <td>16364</td>\n",
       "      <td>Jakarta Barat</td>\n",
       "      <td>DKI Jakarta</td>\n",
       "      <td>P0128</td>\n",
       "      <td>BRAND_A</td>\n",
       "      <td>4</td>\n",
       "      <td>205000</td>\n",
       "      <td>2019-08</td>\n",
       "      <td>820000</td>\n",
       "    </tr>\n",
       "    <tr>\n",
       "      <th>4</th>\n",
       "      <td>1702573</td>\n",
       "      <td>2019-10-16</td>\n",
       "      <td>15696</td>\n",
       "      <td>Jakarta Timur</td>\n",
       "      <td>DKI Jakarta</td>\n",
       "      <td>P2968</td>\n",
       "      <td>BRAND_R</td>\n",
       "      <td>2</td>\n",
       "      <td>4475000</td>\n",
       "      <td>2019-10</td>\n",
       "      <td>8950000</td>\n",
       "    </tr>\n",
       "  </tbody>\n",
       "</table>\n",
       "</div>"
      ],
      "text/plain": [
       "   order_id  order_date  customer_id             city     province product_id  \\\n",
       "0   1703458  2019-10-17        14004  Jakarta Selatan  DKI Jakarta      P1910   \n",
       "1   1706815  2019-10-24        17220  Jakarta Selatan  DKI Jakarta      P2934   \n",
       "2   1710718  2019-11-03        16518    Jakarta Utara  DKI Jakarta      P0908   \n",
       "3   1683592  2019-08-19        16364    Jakarta Barat  DKI Jakarta      P0128   \n",
       "4   1702573  2019-10-16        15696    Jakarta Timur  DKI Jakarta      P2968   \n",
       "\n",
       "     brand  quantity  item_price order_month      gmv  \n",
       "0  BRAND_J        10      740000     2019-10  7400000  \n",
       "1  BRAND_R         2      604000     2019-10  1208000  \n",
       "2  BRAND_C         8     1045000     2019-11  8360000  \n",
       "3  BRAND_A         4      205000     2019-08   820000  \n",
       "4  BRAND_R         2     4475000     2019-10  8950000  "
      ]
     },
     "execution_count": 9,
     "metadata": {},
     "output_type": "execute_result"
    }
   ],
   "source": [
    "# mengubah order_date menjadi order_month\n",
    "import datetime\n",
    "dataset['order_month'] = dataset['order_date'].apply(lambda x:datetime.datetime.strptime(x, \"%Y-%m-%d\").strftime('%Y-%m'))\n",
    "dataset.head()"
   ]
  },
  {
   "cell_type": "code",
   "execution_count": 10,
   "metadata": {},
   "outputs": [
    {
     "data": {
      "text/plain": [
       "order_id       0\n",
       "order_date     0\n",
       "customer_id    0\n",
       "city           0\n",
       "province       0\n",
       "product_id     0\n",
       "brand          0\n",
       "quantity       0\n",
       "item_price     0\n",
       "order_month    0\n",
       "gmv            0\n",
       "dtype: int64"
      ]
     },
     "execution_count": 10,
     "metadata": {},
     "output_type": "execute_result"
    }
   ],
   "source": [
    "# cek data is null\n",
    "dataset.isnull().sum()"
   ]
  },
  {
   "cell_type": "code",
   "execution_count": 11,
   "metadata": {},
   "outputs": [
    {
     "data": {
      "text/html": [
       "<div>\n",
       "<style scoped>\n",
       "    .dataframe tbody tr th:only-of-type {\n",
       "        vertical-align: middle;\n",
       "    }\n",
       "\n",
       "    .dataframe tbody tr th {\n",
       "        vertical-align: top;\n",
       "    }\n",
       "\n",
       "    .dataframe thead th {\n",
       "        text-align: right;\n",
       "    }\n",
       "</style>\n",
       "<table border=\"1\" class=\"dataframe\">\n",
       "  <thead>\n",
       "    <tr style=\"text-align: right;\">\n",
       "      <th></th>\n",
       "      <th>order_id</th>\n",
       "      <th>order_date</th>\n",
       "      <th>customer_id</th>\n",
       "      <th>city</th>\n",
       "      <th>province</th>\n",
       "      <th>product_id</th>\n",
       "      <th>brand</th>\n",
       "      <th>quantity</th>\n",
       "      <th>item_price</th>\n",
       "      <th>order_month</th>\n",
       "      <th>gmv</th>\n",
       "    </tr>\n",
       "  </thead>\n",
       "  <tbody>\n",
       "    <tr>\n",
       "      <th>0</th>\n",
       "      <td>1703458</td>\n",
       "      <td>2019-10-17</td>\n",
       "      <td>14004</td>\n",
       "      <td>Jakarta Selatan</td>\n",
       "      <td>DKI Jakarta</td>\n",
       "      <td>P1910</td>\n",
       "      <td>BRAND_J</td>\n",
       "      <td>10</td>\n",
       "      <td>740000</td>\n",
       "      <td>2019-10</td>\n",
       "      <td>7400000</td>\n",
       "    </tr>\n",
       "    <tr>\n",
       "      <th>1</th>\n",
       "      <td>1706815</td>\n",
       "      <td>2019-10-24</td>\n",
       "      <td>17220</td>\n",
       "      <td>Jakarta Selatan</td>\n",
       "      <td>DKI Jakarta</td>\n",
       "      <td>P2934</td>\n",
       "      <td>BRAND_R</td>\n",
       "      <td>2</td>\n",
       "      <td>604000</td>\n",
       "      <td>2019-10</td>\n",
       "      <td>1208000</td>\n",
       "    </tr>\n",
       "    <tr>\n",
       "      <th>2</th>\n",
       "      <td>1710718</td>\n",
       "      <td>2019-11-03</td>\n",
       "      <td>16518</td>\n",
       "      <td>Jakarta Utara</td>\n",
       "      <td>DKI Jakarta</td>\n",
       "      <td>P0908</td>\n",
       "      <td>BRAND_C</td>\n",
       "      <td>8</td>\n",
       "      <td>1045000</td>\n",
       "      <td>2019-11</td>\n",
       "      <td>8360000</td>\n",
       "    </tr>\n",
       "    <tr>\n",
       "      <th>3</th>\n",
       "      <td>1683592</td>\n",
       "      <td>2019-08-19</td>\n",
       "      <td>16364</td>\n",
       "      <td>Jakarta Barat</td>\n",
       "      <td>DKI Jakarta</td>\n",
       "      <td>P0128</td>\n",
       "      <td>BRAND_A</td>\n",
       "      <td>4</td>\n",
       "      <td>205000</td>\n",
       "      <td>2019-08</td>\n",
       "      <td>820000</td>\n",
       "    </tr>\n",
       "    <tr>\n",
       "      <th>4</th>\n",
       "      <td>1702573</td>\n",
       "      <td>2019-10-16</td>\n",
       "      <td>15696</td>\n",
       "      <td>Jakarta Timur</td>\n",
       "      <td>DKI Jakarta</td>\n",
       "      <td>P2968</td>\n",
       "      <td>BRAND_R</td>\n",
       "      <td>2</td>\n",
       "      <td>4475000</td>\n",
       "      <td>2019-10</td>\n",
       "      <td>8950000</td>\n",
       "    </tr>\n",
       "  </tbody>\n",
       "</table>\n",
       "</div>"
      ],
      "text/plain": [
       "   order_id  order_date  customer_id             city     province product_id  \\\n",
       "0   1703458  2019-10-17        14004  Jakarta Selatan  DKI Jakarta      P1910   \n",
       "1   1706815  2019-10-24        17220  Jakarta Selatan  DKI Jakarta      P2934   \n",
       "2   1710718  2019-11-03        16518    Jakarta Utara  DKI Jakarta      P0908   \n",
       "3   1683592  2019-08-19        16364    Jakarta Barat  DKI Jakarta      P0128   \n",
       "4   1702573  2019-10-16        15696    Jakarta Timur  DKI Jakarta      P2968   \n",
       "\n",
       "     brand  quantity  item_price order_month      gmv  \n",
       "0  BRAND_J        10      740000     2019-10  7400000  \n",
       "1  BRAND_R         2      604000     2019-10  1208000  \n",
       "2  BRAND_C         8     1045000     2019-11  8360000  \n",
       "3  BRAND_A         4      205000     2019-08   820000  \n",
       "4  BRAND_R         2     4475000     2019-10  8950000  "
      ]
     },
     "execution_count": 11,
     "metadata": {},
     "output_type": "execute_result"
    }
   ],
   "source": [
    "# menambahkan kolom gmw\n",
    "dataset['gmv'] = dataset['item_price']*dataset['quantity']\n",
    "dataset.head()"
   ]
  },
  {
   "cell_type": "code",
   "execution_count": 12,
   "metadata": {},
   "outputs": [
    {
     "data": {
      "text/html": [
       "<div>\n",
       "<style scoped>\n",
       "    .dataframe tbody tr th:only-of-type {\n",
       "        vertical-align: middle;\n",
       "    }\n",
       "\n",
       "    .dataframe tbody tr th {\n",
       "        vertical-align: top;\n",
       "    }\n",
       "\n",
       "    .dataframe thead th {\n",
       "        text-align: right;\n",
       "    }\n",
       "</style>\n",
       "<table border=\"1\" class=\"dataframe\">\n",
       "  <thead>\n",
       "    <tr style=\"text-align: right;\">\n",
       "      <th></th>\n",
       "      <th>order_month</th>\n",
       "      <th>gmv</th>\n",
       "    </tr>\n",
       "  </thead>\n",
       "  <tbody>\n",
       "    <tr>\n",
       "      <th>0</th>\n",
       "      <td>2019-07</td>\n",
       "      <td>3524041000</td>\n",
       "    </tr>\n",
       "    <tr>\n",
       "      <th>1</th>\n",
       "      <td>2019-08</td>\n",
       "      <td>4452923000</td>\n",
       "    </tr>\n",
       "    <tr>\n",
       "      <th>2</th>\n",
       "      <td>2019-09</td>\n",
       "      <td>3947002000</td>\n",
       "    </tr>\n",
       "    <tr>\n",
       "      <th>3</th>\n",
       "      <td>2019-10</td>\n",
       "      <td>6719937000</td>\n",
       "    </tr>\n",
       "    <tr>\n",
       "      <th>4</th>\n",
       "      <td>2019-11</td>\n",
       "      <td>6182229000</td>\n",
       "    </tr>\n",
       "    <tr>\n",
       "      <th>5</th>\n",
       "      <td>2019-12</td>\n",
       "      <td>8148235000</td>\n",
       "    </tr>\n",
       "  </tbody>\n",
       "</table>\n",
       "</div>"
      ],
      "text/plain": [
       "  order_month         gmv\n",
       "0     2019-07  3524041000\n",
       "1     2019-08  4452923000\n",
       "2     2019-09  3947002000\n",
       "3     2019-10  6719937000\n",
       "4     2019-11  6182229000\n",
       "5     2019-12  8148235000"
      ]
     },
     "execution_count": 12,
     "metadata": {},
     "output_type": "execute_result"
    }
   ],
   "source": [
    "# group gmv dengan order_month\n",
    "monthly_amount = dataset.groupby('order_month')['gmv'].sum().reset_index()\n",
    "monthly_amount"
   ]
  },
  {
   "cell_type": "code",
   "execution_count": 15,
   "metadata": {},
   "outputs": [
    {
     "data": {
      "text/html": [
       "<div>\n",
       "<style scoped>\n",
       "    .dataframe tbody tr th:only-of-type {\n",
       "        vertical-align: middle;\n",
       "    }\n",
       "\n",
       "    .dataframe tbody tr th {\n",
       "        vertical-align: top;\n",
       "    }\n",
       "\n",
       "    .dataframe thead th {\n",
       "        text-align: right;\n",
       "    }\n",
       "</style>\n",
       "<table border=\"1\" class=\"dataframe\">\n",
       "  <thead>\n",
       "    <tr style=\"text-align: right;\">\n",
       "      <th></th>\n",
       "      <th>brand</th>\n",
       "      <th>quantity</th>\n",
       "    </tr>\n",
       "  </thead>\n",
       "  <tbody>\n",
       "    <tr>\n",
       "      <th>0</th>\n",
       "      <td>BRAND_A</td>\n",
       "      <td>5752</td>\n",
       "    </tr>\n",
       "    <tr>\n",
       "      <th>1</th>\n",
       "      <td>BRAND_B</td>\n",
       "      <td>3964</td>\n",
       "    </tr>\n",
       "    <tr>\n",
       "      <th>2</th>\n",
       "      <td>BRAND_C</td>\n",
       "      <td>5366</td>\n",
       "    </tr>\n",
       "    <tr>\n",
       "      <th>3</th>\n",
       "      <td>BRAND_H</td>\n",
       "      <td>3238</td>\n",
       "    </tr>\n",
       "    <tr>\n",
       "      <th>4</th>\n",
       "      <td>BRAND_J</td>\n",
       "      <td>4926</td>\n",
       "    </tr>\n",
       "    <tr>\n",
       "      <th>5</th>\n",
       "      <td>BRAND_L</td>\n",
       "      <td>3090</td>\n",
       "    </tr>\n",
       "    <tr>\n",
       "      <th>6</th>\n",
       "      <td>BRAND_P</td>\n",
       "      <td>10130</td>\n",
       "    </tr>\n",
       "    <tr>\n",
       "      <th>7</th>\n",
       "      <td>BRAND_R</td>\n",
       "      <td>5316</td>\n",
       "    </tr>\n",
       "    <tr>\n",
       "      <th>8</th>\n",
       "      <td>BRAND_S</td>\n",
       "      <td>9645</td>\n",
       "    </tr>\n",
       "    <tr>\n",
       "      <th>9</th>\n",
       "      <td>BRAND_W</td>\n",
       "      <td>5609</td>\n",
       "    </tr>\n",
       "  </tbody>\n",
       "</table>\n",
       "</div>"
      ],
      "text/plain": [
       "     brand  quantity\n",
       "0  BRAND_A      5752\n",
       "1  BRAND_B      3964\n",
       "2  BRAND_C      5366\n",
       "3  BRAND_H      3238\n",
       "4  BRAND_J      4926\n",
       "5  BRAND_L      3090\n",
       "6  BRAND_P     10130\n",
       "7  BRAND_R      5316\n",
       "8  BRAND_S      9645\n",
       "9  BRAND_W      5609"
      ]
     },
     "execution_count": 15,
     "metadata": {},
     "output_type": "execute_result"
    }
   ],
   "source": [
    "popular_brand = dataset.groupby('brand')['quantity'].sum().reset_index()\n",
    "popular_brand"
   ]
  },
  {
   "cell_type": "code",
   "execution_count": 19,
   "metadata": {},
   "outputs": [
    {
     "data": {
      "image/png": "[encoded data removed]",
      "text/plain": [
       "<Figure size 432x288 with 1 Axes>"
      ]
     },
     "metadata": {},
     "output_type": "display_data"
    }
   ],
   "source": [
    "# cara 1\n",
    "import matplotlib.pyplot as plt\n",
    "plt.plot(monthly_amount['order_month'],monthly_amount['gmv'])\n",
    "plt.show()"
   ]
  },
  {
   "cell_type": "code",
   "execution_count": 71,
   "metadata": {},
   "outputs": [
    {
     "data": {
      "image/png": "[encoded data removed]",
      "text/plain": [
       "<Figure size 1080x360 with 1 Axes>"
      ]
     },
     "metadata": {},
     "output_type": "display_data"
    }
   ],
   "source": [
    "# cara 2\n",
    "fig = plt.figure(figsize=(15,5))\n",
    "dataset.groupby(['order_month'])['gmv'].sum().plot(color='green', marker='s', linestyle='-.', linewidth=2)\n",
    "plt.title('Monthly GMV Year 2019', loc='left', pad=40, fontsize=20, color='orange')\n",
    "plt.xlabel('Order Month', fontsize=15)\n",
    "plt.ylabel('Total Amount', fontsize=15)\n",
    "plt.grid(color='blue', linestyle=':', linewidth=0.5)\n",
    "plt.ylim(ymin=0)\n",
    "labels, locations = plt.yticks()\n",
    "plt.yticks(labels, (labels/1000000000).astype(int))\n",
    "plt.text(0.45, 0.72, 'The GMV increased significantly on October 2019', transform=fig.transFigure, color='red')\n",
    "plt.savefig('monthly_gmv.png')\n",
    "plt.show()"
   ]
  },
  {
   "cell_type": "markdown",
   "metadata": {},
   "source": [
    "Task 2"
   ]
  },
  {
   "cell_type": "code",
   "execution_count": 57,
   "metadata": {},
   "outputs": [],
   "source": [
    "df = pd.read_csv('https://dqlab-dataset.s3-ap-southeast-1.amazonaws.com/retail_raw_reduced.csv')"
   ]
  },
  {
   "cell_type": "code",
   "execution_count": 58,
   "metadata": {},
   "outputs": [],
   "source": [
    "# Buat kolom order_month\n",
    "dataset['order_month'] = dataset['order_date'].apply(lambda x: datetime.datetime.strptime(x, \"%Y-%m-%d\").strftime('%Y-%m'))\n",
    "# Buat kolom gmv\n",
    "dataset['gmv'] = dataset['item_price'] * dataset['quantity']"
   ]
  },
  {
   "cell_type": "code",
   "execution_count": 75,
   "metadata": {},
   "outputs": [
    {
     "data": {
      "image/png": "[encoded data removed]",
      "text/plain": [
       "<Figure size 720x360 with 1 Axes>"
      ]
     },
     "metadata": {},
     "output_type": "display_data"
    }
   ],
   "source": [
    "# Plot grafik sesuai dengan instruksi\n",
    "plt.figure(figsize=(10, 5))\n",
    "dataset[dataset['order_month']=='2019-12'].groupby(['order_date'])['customer_id'].nunique().plot(color='red', marker='.', linewidth=2)\n",
    "plt.title('Daily Number of Customers - December 2019', loc='left', pad=30, fontsize=20, color='orange')\n",
    "plt.xlabel('Order Date', fontsize=15, color='blue')\n",
    "plt.ylabel('Number of Customers', fontsize=15, color='blue')\n",
    "plt.grid(color='darkgray', linestyle=':', linewidth=0.5)\n",
    "plt.ylim(ymin=0)\n",
    "plt.show()"
   ]
  },
  {
   "cell_type": "code",
   "execution_count": null,
   "metadata": {},
   "outputs": [],
   "source": []
  }
 ],
 "metadata": {
  "kernelspec": {
   "display_name": "Python 3",
   "language": "python",
   "name": "python3"
  },
  "language_info": {
   "codemirror_mode": {
    "name": "ipython",
    "version": 3
   },
   "file_extension": ".py",
   "mimetype": "text/x-python",
   "name": "python",
   "nbconvert_exporter": "python",
   "pygments_lexer": "ipython3",
   "version": "3.6.5"
  }
 },
 "nbformat": 4,
 "nbformat_minor": 2
}
